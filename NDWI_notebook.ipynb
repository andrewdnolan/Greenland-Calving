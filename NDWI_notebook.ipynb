{
 "cells": [
  {
   "cell_type": "markdown",
   "metadata": {},
   "source": [
    "# NDWI Command Line Utility "
   ]
  },
  {
   "cell_type": "markdown",
   "metadata": {},
   "source": [
    "Some background information about the NDWI and how we derived the threshold for these glaciers in Greenland"
   ]
  },
  {
   "cell_type": "markdown",
   "metadata": {},
   "source": [
    "* NDWI Equation -\n",
    "\\begin{equation}\n",
    "NDWI = \\frac{GREEN - NIR}{GREEN + NIR}\n",
    "\\end{equation}\n",
    "\n",
    "* For Landsat 8 -\n",
    "\\begin{equation}\n",
    "NDWI = \\frac{B3 - B5}{B3 + B5}\n",
    "\\end{equation}\n"
   ]
  },
  {
   "cell_type": "markdown",
   "metadata": {},
   "source": [
    "Some info about pulling the file from github"
   ]
  },
  {
   "cell_type": "code",
   "execution_count": 23,
   "metadata": {},
   "outputs": [
    {
     "name": "stdout",
     "output_type": "stream",
     "text": [
      "git: 'something' is not a git command. See 'git --help'.\n"
     ]
    },
    {
     "ename": "",
     "evalue": "1",
     "output_type": "error",
     "traceback": []
    }
   ],
   "source": [
    "git something"
   ]
  },
  {
   "cell_type": "markdown",
   "metadata": {},
   "source": [
    "This line makes the code executable"
   ]
  },
  {
   "cell_type": "code",
   "execution_count": 25,
   "metadata": {},
   "outputs": [],
   "source": [
    "chmod +X ./NDWI_Func.py"
   ]
  },
  {
   "cell_type": "code",
   "execution_count": 29,
   "metadata": {},
   "outputs": [
    {
     "name": "stdout",
     "output_type": "stream",
     "text": [
      "[                                        ----------------------------------------\n",
      "usage: NDWI_Func.py [-h] [-t_srs T_SRS] [-pix_thres PIX_THRES] [-m] src_dir\n",
      "\n",
      "Command line utility to calculate the Normailzed Differenced Water Index (NDWI) for a bulk order directory from earth Explorer. \n",
      "\n",
      "positional arguments:\n",
      "  src_dir               The source directory. Should be all of the available Landsat Scenes for a glacier. Should be a Bulk-Order directory from Earth Explorer\n",
      "\n",
      "optional arguments:\n",
      "  -h, --help            show this help message and exit\n",
      "  -t_srs T_SRS          The target projection is the Landsat Scenes need to be reprojected\n",
      "  -pix_thres PIX_THRES  minimum value for the NDWI pixel value to be considered valid water.\n",
      "  -m                    Whether the output should be a mask. Add flag to command line input to output mask.\n"
     ]
    }
   ],
   "source": [
    "./NDWI_Func.py -h"
   ]
  },
  {
   "cell_type": "code",
   "execution_count": 30,
   "metadata": {},
   "outputs": [
    {
     "name": "stdout",
     "output_type": "stream",
     "text": [
      "Bulk_Order_928060\n",
      "LC08_L1TP_009011_20170406_20170414_01_T1\n",
      "NDWI_Func.py\n",
      "NDWI_Func.pyc\n",
      "NDWI_notebook.ipynb\n",
      "NDWI_test.py\n"
     ]
    }
   ],
   "source": [
    "ls "
   ]
  },
  {
   "cell_type": "markdown",
   "metadata": {},
   "source": [
    "Here we can see that we have a bulk order from Earth Explorer in the directory. This is the directory to call NDWI_Func on. "
   ]
  },
  {
   "cell_type": "code",
   "execution_count": 32,
   "metadata": {},
   "outputs": [],
   "source": [
    "./NDWI_Func.py Bulk_Order_928060 -t_srs 3413 -pix_thres 0.15"
   ]
  },
  {
   "cell_type": "code",
   "execution_count": null,
   "metadata": {},
   "outputs": [],
   "source": []
  }
 ],
 "metadata": {
  "kernelspec": {
   "display_name": "Bash",
   "language": "bash",
   "name": "bash"
  },
  "language_info": {
   "codemirror_mode": "shell",
   "file_extension": ".sh",
   "mimetype": "text/x-sh",
   "name": "bash"
  }
 },
 "nbformat": 4,
 "nbformat_minor": 2
}
